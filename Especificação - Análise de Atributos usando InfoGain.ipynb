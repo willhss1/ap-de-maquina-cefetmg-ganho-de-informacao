{
 "cells": [
  {
   "cell_type": "markdown",
   "metadata": {},
   "source": [
    "## Antes de Começar\n",
    "\n",
    "- Opcional: Leia e faça os exercícios sobre Python [aqui](Básico%20-%20Python.ipynb);\n",
    "- Instale o pandas. Usando pip, pode-se fazer este comando: `pip3 install pandas matplotlib numpy` (em alguns Sistemas Operacionais/configurações, você usará `pip` ao inves de `pip3`) \n",
    "\n",
    "\n"
   ]
  },
  {
   "cell_type": "code",
   "execution_count": 1,
   "metadata": {},
   "outputs": [
    {
     "name": "stdout",
     "output_type": "stream",
     "text": [
      "[1.14258654e-313 0.00000000e+000 9.77146787e-153]\n",
      "[1.14258654e-313 0.00000000e+000 9.77146787e-153]\n",
      "[1.16930901e-161 0.00000000e+000 1.00000000e+000]\n",
      "6.251181692419166e-159\n"
     ]
    }
   ],
   "source": [
    "from math import log2\n",
    "import numpy as np\n",
    "p=np.empty(3)\n",
    "print(p)\n",
    "while not p.any():\n",
    "    p=np.random.randint(0,2,3)\n",
    "print(p)\n",
    "\n",
    "p=p/sum(p)\n",
    "\n",
    "print(p)\n",
    "\n",
    "entropia = sum([-x*log2(x)for x in p if x!=0])\n",
    "print(entropia)\n",
    "\n"
   ]
  },
  {
   "cell_type": "markdown",
   "metadata": {},
   "source": [
    "Caso não esteja reconhecendo os pacotes instalados, geralmente é devido à sua maquina possuir mais de uma instalação do Python. Veja possiveis erros relacionados a isto:\n",
    "\n",
    "\n",
    "- Caso você tenha o python>=3 e python 2.7 instalado, por exemplo, todos os comandos para executar o Python 2.7, você usará sem o sufixo 3 e, caso queira usar o python>=3, você deve sempre utilizar python3, pip3\n",
    "- Não instale os pacotes como root. Pois, caso você instale dessa forma, só poderá executá-los como root. Caso aconteça isso, procure o endereço de instalação da versão do seu Python e, logo após, verifique se seu usuário possui a permissão para pasta dos módulos instalados\n",
    "- Ao rodar o Jupyter Notebook, você deve indicar qual versão do Python, dentre as instaladas, você irá usar. Veja isso no VisualCode: \n",
    "\n",
    "<img src='imgs/visualCode.jpeg'>"
   ]
  },
  {
   "cell_type": "markdown",
   "metadata": {},
   "source": [
    "### O que você precisa saber?"
   ]
  },
  {
   "cell_type": "markdown",
   "metadata": {},
   "source": [
    "**Pandas:** Entenda o funcionamento da biblioteca Pandas [aqui](Básico%20-%20Pandas.ipynb). Nesta prática você vai precisar entender como filtrar os dados e o uso do [value_counts](https://pandas.pydata.org/pandas-docs/stable/reference/api/pandas.Series.value_counts.html) além de como criar um Dataframe.\n",
    "\n",
    "\n",
    "**Aulas introdutórias:** Veja [a video aula 1](https://www.youtube.com/watch?v=fasqKSx2-TE&list=PLwIaU1DGYV6tUx10fCTw5aPnqypbbK_GJ&index=2&t=2s) completa e, além disso [a explicação sobre ganho de informação neste video](https://www.youtube.com/watch?v=8nV6lICu-l8&list=PLwIaU1DGYV6tUx10fCTw5aPnqypbbK_GJ&index=8). [Slides mais detalhado do calculo pode ser visto aqui](https://docs.google.com/presentation/d/1TgLJbcRj_Q5I-zqYYgMqyomKRxalW0Q0saJIS3XXeX8/edit?usp=sharing).\n",
    "\n",
    "\n",
    "### Termos importantes:\n",
    "\n",
    "**Entrada**: Representada por um vetor em que cada posição possui um indicador que auxilia na predição da tarefa em questão. Por exemplo, para prevermos se um email é spam ou não, um indicador poderia ser a quantidade de erros ortográficos.  Cada item da entrada é geralmente chamado de **atributo** - também pode ser chamado de **indicador**, **característica** ou, do inglês, **_features_**\n",
    "\n",
    "**Classe alvo (em inglês, _target class_**): é o valor que queremos prever representado por dois ou mais *rótulos* (sim ou não são dois rótulos, por exemplo).  Também chamado de **ground truth**.\n",
    "\n",
    "Exemplo:\n"
   ]
  },
  {
   "cell_type": "markdown",
   "metadata": {},
   "source": [
    "Neste exemplo o objetivo é verificar se é possível jogar uma partida de vôlei dependendo das situações climáticas. Neste contexto, `chuvoso`, `ventos fortes` e `ensolarado` são os atributos e `jogar volei?` é a classe. "
   ]
  },
  {
   "cell_type": "code",
   "execution_count": 2,
   "metadata": {},
   "outputs": [
    {
     "data": {
      "text/html": [
       "<div>\n",
       "<style scoped>\n",
       "    .dataframe tbody tr th:only-of-type {\n",
       "        vertical-align: middle;\n",
       "    }\n",
       "\n",
       "    .dataframe tbody tr th {\n",
       "        vertical-align: top;\n",
       "    }\n",
       "\n",
       "    .dataframe thead th {\n",
       "        text-align: right;\n",
       "    }\n",
       "</style>\n",
       "<table border=\"1\" class=\"dataframe\">\n",
       "  <thead>\n",
       "    <tr style=\"text-align: right;\">\n",
       "      <th></th>\n",
       "      <th>chuvoso</th>\n",
       "      <th>ventos fortes</th>\n",
       "      <th>ensolarado</th>\n",
       "      <th>jogar volei?</th>\n",
       "    </tr>\n",
       "  </thead>\n",
       "  <tbody>\n",
       "    <tr>\n",
       "      <th>0</th>\n",
       "      <td>sim</td>\n",
       "      <td>sim</td>\n",
       "      <td>não</td>\n",
       "      <td>não</td>\n",
       "    </tr>\n",
       "    <tr>\n",
       "      <th>2</th>\n",
       "      <td>sim</td>\n",
       "      <td>não</td>\n",
       "      <td>não</td>\n",
       "      <td>sim</td>\n",
       "    </tr>\n",
       "  </tbody>\n",
       "</table>\n",
       "</div>"
      ],
      "text/plain": [
       "  chuvoso ventos fortes ensolarado jogar volei?\n",
       "0     sim           sim        não          não\n",
       "2     sim           não        não          sim"
      ]
     },
     "execution_count": 2,
     "metadata": {},
     "output_type": "execute_result"
    }
   ],
   "source": [
    "import pandas as pd\n",
    "df_jogos = pd.DataFrame([[\"sim\",\"sim\",\"não\",\"não\"],\n",
    "                           [\"não\",\"não\",\"sim\",\"sim\"],\n",
    "                         [\"sim\",\"não\",\"não\",\"sim\"]],\n",
    "                        columns=[\"chuvoso\",\"ventos fortes\",\"ensolarado\",\"jogar volei?\"])\n",
    "df_jogos[df_jogos[\"chuvoso\"]==\"sim\"]"
   ]
  },
  {
   "cell_type": "markdown",
   "metadata": {},
   "source": [
    "## Implementação do Ganho de Informação"
   ]
  },
  {
   "cell_type": "markdown",
   "metadata": {},
   "source": [
    "Implemente o código no arquivo `ganho_informacao.py` de acordo com as instruções comentadas. Faça na ordem das funçoes que estiverem lá. Para cada função implementada, rode o teste automatizado para verificar se a mesma está funcionando (veja na próxima seção). Os [slides de ganho de informação](https://docs.google.com/presentation/d/1TgLJbcRj_Q5I-zqYYgMqyomKRxalW0Q0saJIS3XXeX8/edit?usp=sharing) poderão ajudar.\n",
    "\n",
    "Caso queira, você também pode usar esse notebook para testar. Para isso, comente a importação do módulo `ganho_informacao` e copie a função aqui no notebook para testà-la e, quando tiver funcionando, copie e cole ela de volta no arquivo `ganho_informação.py`;\n",
    "\n",
    "**Atenção:** após rodar o comando de import neste notebook, caso precise mudar algo no código `ganho_informacao.py` e visualizar o resultado aqui, você deverá reiniciar o kernel (kernel -> restart)."
   ]
  },
  {
   "cell_type": "code",
   "execution_count": 3,
   "metadata": {},
   "outputs": [
    {
     "name": "stdout",
     "output_type": "stream",
     "text": [
      "0.954434002924965\n",
      "   A      B  C  D\n",
      "0  X   True  X  X\n",
      "1  X  False  0  X\n",
      "2  X   True  X  X\n"
     ]
    },
    {
     "data": {
      "text/plain": [
       "0.036138168870475496"
      ]
     },
     "execution_count": 3,
     "metadata": {},
     "output_type": "execute_result"
    }
   ],
   "source": [
    "from ganho_informacao import entropia\n",
    "\n",
    "df_tes= pd.DataFrame({\"A\":[\"X\", \"X\", \"X\", \"S\", \"S\",\"1\",\"1\",\"1\"],\n",
    "                    \"B\": [True,False,True,False,True,False,False,False],\n",
    "                    \"C\":[\"X\", \"0\", \"X\", \"S\", \"S\",\"1\",\"0\",\"S\"],\n",
    "                    \"D\":[\"X\", \"X\", \"X\", \"X\", \"X\",\"X\",\"X\",\"X\"]})\n",
    "print(entropia(df_tes,'B'))\n",
    "\n",
    "df_dados_filtrado = df_tes[df_tes['A']==\"X\"]\n",
    "print(df_dados_filtrado)\n",
    "entropia(df_tes,'B')-entropia(df_dados_filtrado,'B')\n"
   ]
  },
  {
   "cell_type": "code",
   "execution_count": 4,
   "metadata": {
    "scrolled": true
   },
   "outputs": [
    {
     "data": {
      "text/plain": [
       "0.0"
      ]
     },
     "execution_count": 4,
     "metadata": {},
     "output_type": "execute_result"
    }
   ],
   "source": [
    "from ganho_informacao import ganho_informacao\n",
    "\n",
    "ganho_informacao(df_tes,'A','D')"
   ]
  },
  {
   "cell_type": "markdown",
   "metadata": {},
   "source": [
    "O teste automatizado é feito executando o arquivo `tests.py` explicitando, opcionalmente, a classe/método que desejamos executar. Logo após implementar uma função, teste-o usando o teste automatizado correspondente. Para isso, pressione `ctrl+enter` na célula com o comando de teste abaixo para executá-lo. **Em alguns computadores/sistemas operacionais, vocês deverão alterar o comando de `python3` para `python`**."
   ]
  },
  {
   "cell_type": "markdown",
   "metadata": {},
   "source": [
    "**Teste 1 - função `entropia`:** "
   ]
  },
  {
   "cell_type": "code",
   "execution_count": 5,
   "metadata": {},
   "outputs": [
    {
     "name": "stdout",
     "output_type": "stream",
     "text": [
      ".\r\n",
      "----------------------------------------------------------------------\r\n",
      "Ran 1 test in 0.001s\r\n",
      "\r\n",
      "OK\r\n"
     ]
    }
   ],
   "source": [
    "!python3 -m tests TestInfoGain.test_entropy"
   ]
  },
  {
   "cell_type": "markdown",
   "metadata": {},
   "source": [
    "**Teste 2 - função `ganho_informacao_condicional`:**"
   ]
  },
  {
   "cell_type": "code",
   "execution_count": 6,
   "metadata": {},
   "outputs": [
    {
     "name": "stdout",
     "output_type": "stream",
     "text": [
      ".\r\n",
      "----------------------------------------------------------------------\r\n",
      "Ran 1 test in 0.005s\r\n",
      "\r\n",
      "OK\r\n"
     ]
    }
   ],
   "source": [
    "!python3 -m tests TestInfoGain.teste_ganho_informacao_condicional"
   ]
  },
  {
   "cell_type": "markdown",
   "metadata": {},
   "source": [
    "**Teste 3 - função `ganho_informacao`:**"
   ]
  },
  {
   "cell_type": "code",
   "execution_count": 7,
   "metadata": {},
   "outputs": [
    {
     "name": "stdout",
     "output_type": "stream",
     "text": [
      ".\r\n",
      "----------------------------------------------------------------------\r\n",
      "Ran 1 test in 0.007s\r\n",
      "\r\n",
      "OK\r\n"
     ]
    }
   ],
   "source": [
    "!python3 -m tests TestInfoGain.test_info_gain"
   ]
  },
  {
   "cell_type": "markdown",
   "metadata": {},
   "source": [
    "Importação das bibliotecas necessárias. Sempre que quiser acessar alguma função/classe do pandas use, por exemplo: pd.DataFrame()"
   ]
  },
  {
   "cell_type": "code",
   "execution_count": 8,
   "metadata": {},
   "outputs": [],
   "source": [
    "import numpy as np\n",
    "import pandas as pd\n",
    "from ganho_informacao import entropia,ganho_informacao"
   ]
  },
  {
   "cell_type": "markdown",
   "metadata": {},
   "source": [
    "Como, no código acima, chamamos o módulo pandas de \"pd\", então, temos que referencia-lo sempre que quisermos intanciar uma classe/chamar uma função deste módulo. Exemplo:"
   ]
  },
  {
   "cell_type": "code",
   "execution_count": 9,
   "metadata": {},
   "outputs": [
    {
     "data": {
      "text/html": [
       "<div>\n",
       "<style scoped>\n",
       "    .dataframe tbody tr th:only-of-type {\n",
       "        vertical-align: middle;\n",
       "    }\n",
       "\n",
       "    .dataframe tbody tr th {\n",
       "        vertical-align: top;\n",
       "    }\n",
       "\n",
       "    .dataframe thead th {\n",
       "        text-align: right;\n",
       "    }\n",
       "</style>\n",
       "<table border=\"1\" class=\"dataframe\">\n",
       "  <thead>\n",
       "    <tr style=\"text-align: right;\">\n",
       "      <th></th>\n",
       "      <th>col1</th>\n",
       "    </tr>\n",
       "  </thead>\n",
       "  <tbody>\n",
       "    <tr>\n",
       "      <th>0</th>\n",
       "      <td>a</td>\n",
       "    </tr>\n",
       "    <tr>\n",
       "      <th>1</th>\n",
       "      <td>b</td>\n",
       "    </tr>\n",
       "    <tr>\n",
       "      <th>2</th>\n",
       "      <td>c</td>\n",
       "    </tr>\n",
       "  </tbody>\n",
       "</table>\n",
       "</div>"
      ],
      "text/plain": [
       "  col1\n",
       "0    a\n",
       "1    b\n",
       "2    c"
      ]
     },
     "execution_count": 9,
     "metadata": {},
     "output_type": "execute_result"
    }
   ],
   "source": [
    "pd.DataFrame({\"col1\":[\"a\",\"b\",\"c\"]})"
   ]
  },
  {
   "cell_type": "markdown",
   "metadata": {},
   "source": [
    "Faça um DataFrame do exemplo [nos slides sobre Ganho de Informação (sobre a renda e o crédito aprovado)](https://docs.google.com/presentation/d/1TgLJbcRj_Q5I-zqYYgMqyomKRxalW0Q0saJIS3XXeX8/edit?usp=sharing). Logo após, calcule a entropia da classe `Credito Aprovado` e o ganho de informação do atributo `Renda`. Confira os resultados com os slides. Os resulados no slides possuem arredondamento e, por isso, pode-se diferenciar a partir da 3ª casa decimal.  "
   ]
  },
  {
   "cell_type": "code",
   "execution_count": 10,
   "metadata": {
    "scrolled": true
   },
   "outputs": [
    {
     "data": {
      "text/html": [
       "<div>\n",
       "<style scoped>\n",
       "    .dataframe tbody tr th:only-of-type {\n",
       "        vertical-align: middle;\n",
       "    }\n",
       "\n",
       "    .dataframe tbody tr th {\n",
       "        vertical-align: top;\n",
       "    }\n",
       "\n",
       "    .dataframe thead th {\n",
       "        text-align: right;\n",
       "    }\n",
       "</style>\n",
       "<table border=\"1\" class=\"dataframe\">\n",
       "  <thead>\n",
       "    <tr style=\"text-align: right;\">\n",
       "      <th></th>\n",
       "      <th>Renda</th>\n",
       "      <th>Aprovado</th>\n",
       "    </tr>\n",
       "  </thead>\n",
       "  <tbody>\n",
       "    <tr>\n",
       "      <th>0</th>\n",
       "      <td>alta</td>\n",
       "      <td>sim</td>\n",
       "    </tr>\n",
       "    <tr>\n",
       "      <th>1</th>\n",
       "      <td>alta</td>\n",
       "      <td>sim</td>\n",
       "    </tr>\n",
       "    <tr>\n",
       "      <th>2</th>\n",
       "      <td>alta</td>\n",
       "      <td>sim</td>\n",
       "    </tr>\n",
       "    <tr>\n",
       "      <th>3</th>\n",
       "      <td>baixa</td>\n",
       "      <td>não</td>\n",
       "    </tr>\n",
       "    <tr>\n",
       "      <th>4</th>\n",
       "      <td>alta</td>\n",
       "      <td>não</td>\n",
       "    </tr>\n",
       "    <tr>\n",
       "      <th>5</th>\n",
       "      <td>baixa</td>\n",
       "      <td>não</td>\n",
       "    </tr>\n",
       "    <tr>\n",
       "      <th>6</th>\n",
       "      <td>baixa</td>\n",
       "      <td>não</td>\n",
       "    </tr>\n",
       "    <tr>\n",
       "      <th>7</th>\n",
       "      <td>baixa</td>\n",
       "      <td>não</td>\n",
       "    </tr>\n",
       "  </tbody>\n",
       "</table>\n",
       "</div>"
      ],
      "text/plain": [
       "   Renda Aprovado\n",
       "0   alta      sim\n",
       "1   alta      sim\n",
       "2   alta      sim\n",
       "3  baixa      não\n",
       "4   alta      não\n",
       "5  baixa      não\n",
       "6  baixa      não\n",
       "7  baixa      não"
      ]
     },
     "execution_count": 10,
     "metadata": {},
     "output_type": "execute_result"
    }
   ],
   "source": [
    "## Seu código aqui - Criação do DataFrame \n",
    "\n",
    "df_dados=pd.DataFrame({\"Renda\":[\"alta\",\"alta\",\"alta\",\"baixa\",\"alta\",\"baixa\",\"baixa\",\"baixa\"],\n",
    "                     \"Aprovado\":[\"sim\",\"sim\",\"sim\",\"não\",\"não\",\"não\",\"não\",\"não\"]})\n",
    "df_dados"
   ]
  },
  {
   "cell_type": "code",
   "execution_count": 11,
   "metadata": {},
   "outputs": [
    {
     "data": {
      "text/plain": [
       "0.954434002924965"
      ]
     },
     "execution_count": 11,
     "metadata": {},
     "output_type": "execute_result"
    }
   ],
   "source": [
    "## Seu código aqui - Calculo da Entropia da classe \"Credito Aprovado\"\n",
    "\n",
    "entropia(df_dados,\"Aprovado\")"
   ]
  },
  {
   "cell_type": "code",
   "execution_count": 12,
   "metadata": {},
   "outputs": [
    {
     "data": {
      "text/plain": [
       "0.5487949406953987"
      ]
     },
     "execution_count": 12,
     "metadata": {},
     "output_type": "execute_result"
    }
   ],
   "source": [
    "## Seu código aqui - Calculo do InfoGain do atributo \"Renda\"\n",
    "\n",
    "ganho_informacao(df_dados,\"Aprovado\",\"Renda\")"
   ]
  },
  {
   "cell_type": "markdown",
   "metadata": {
    "scrolled": true
   },
   "source": [
    "## Análise de Atributos para Diferenciar Espécies de [Plantas do Gênero Iris](https://en.wikipedia.org/wiki/Iris_(plant))"
   ]
  },
  {
   "cell_type": "markdown",
   "metadata": {},
   "source": [
    "<img src=\"imgs/partes_flor.png\" alt=\"Partes de uma flor\">\n",
    "\n",
    "Plantas do gênero Iris possuem diversas espécies que podem ser diferenciadas por algumas caracteristicas da flor.  Nesta prática, iremos investigar quais atributos distinguem melhor algumas espécies dessa planta. Para isso, usaremos [este dataset](iris.csv) que possui 150 plantas do gênero Iris com atributos de sua flor (propriedades): \n",
    "\n",
    "- Tamanho e largura do sépala (em cm)\n",
    "\n",
    "- Tamanho e largura da pétala (em cm)\n",
    "\n",
    "Existem 3 espécies de plantas do genero Iris na base que será usada: [Iris Setosa](https://en.wikipedia.org/wiki/Iris_setosa), [Iris Virginifica](https://en.wikipedia.org/wiki/Iris_virginica) e [Iris Versicolor](https://en.wikipedia.org/wiki/Iris_versicolor)\n",
    "\n",
    "Nesta atividade, você deverá:\n",
    "\n",
    "1. Calcular do InfoGain de cada atributo. Armazene o resultado em um DataFrame de duas colunas - nome do atributo e valor de infogain - ordene de forma decrescente pelo valor do InfoGain .\n",
    "\n",
    "1. Gerar um gráfico de dispersão (*scatter plot*) em que o eixo x e y são os dois atributos com InfoGain mais altos e com 3 grupos, cada grupo, uma espécie de flor diferente.\n",
    "\n",
    "Iniciamente, leia o CSV e armazene-o em um DataFrame por meio do [método read_csv do pandas](https://pandas.pydata.org/pandas-docs/stable/reference/api/pandas.read_csv.html)."
   ]
  },
  {
   "cell_type": "code",
   "execution_count": 13,
   "metadata": {
    "scrolled": true
   },
   "outputs": [
    {
     "data": {
      "text/html": [
       "<div>\n",
       "<style scoped>\n",
       "    .dataframe tbody tr th:only-of-type {\n",
       "        vertical-align: middle;\n",
       "    }\n",
       "\n",
       "    .dataframe tbody tr th {\n",
       "        vertical-align: top;\n",
       "    }\n",
       "\n",
       "    .dataframe thead th {\n",
       "        text-align: right;\n",
       "    }\n",
       "</style>\n",
       "<table border=\"1\" class=\"dataframe\">\n",
       "  <thead>\n",
       "    <tr style=\"text-align: right;\">\n",
       "      <th></th>\n",
       "      <th>Sepal Length</th>\n",
       "      <th>Sepal Width</th>\n",
       "      <th>Petal Length</th>\n",
       "      <th>Petal Width</th>\n",
       "      <th>Species</th>\n",
       "    </tr>\n",
       "  </thead>\n",
       "  <tbody>\n",
       "    <tr>\n",
       "      <th>0</th>\n",
       "      <td>5.1</td>\n",
       "      <td>3.5</td>\n",
       "      <td>1.4</td>\n",
       "      <td>0.2</td>\n",
       "      <td>Iris-setosa</td>\n",
       "    </tr>\n",
       "    <tr>\n",
       "      <th>1</th>\n",
       "      <td>4.9</td>\n",
       "      <td>3.0</td>\n",
       "      <td>1.4</td>\n",
       "      <td>0.2</td>\n",
       "      <td>Iris-setosa</td>\n",
       "    </tr>\n",
       "    <tr>\n",
       "      <th>2</th>\n",
       "      <td>4.7</td>\n",
       "      <td>3.2</td>\n",
       "      <td>1.3</td>\n",
       "      <td>0.2</td>\n",
       "      <td>Iris-setosa</td>\n",
       "    </tr>\n",
       "    <tr>\n",
       "      <th>3</th>\n",
       "      <td>4.6</td>\n",
       "      <td>3.1</td>\n",
       "      <td>1.5</td>\n",
       "      <td>0.2</td>\n",
       "      <td>Iris-setosa</td>\n",
       "    </tr>\n",
       "    <tr>\n",
       "      <th>4</th>\n",
       "      <td>5.0</td>\n",
       "      <td>3.6</td>\n",
       "      <td>1.4</td>\n",
       "      <td>0.2</td>\n",
       "      <td>Iris-setosa</td>\n",
       "    </tr>\n",
       "    <tr>\n",
       "      <th>...</th>\n",
       "      <td>...</td>\n",
       "      <td>...</td>\n",
       "      <td>...</td>\n",
       "      <td>...</td>\n",
       "      <td>...</td>\n",
       "    </tr>\n",
       "    <tr>\n",
       "      <th>145</th>\n",
       "      <td>6.7</td>\n",
       "      <td>3.0</td>\n",
       "      <td>5.2</td>\n",
       "      <td>2.3</td>\n",
       "      <td>Iris-virginica</td>\n",
       "    </tr>\n",
       "    <tr>\n",
       "      <th>146</th>\n",
       "      <td>6.3</td>\n",
       "      <td>2.5</td>\n",
       "      <td>5.0</td>\n",
       "      <td>1.9</td>\n",
       "      <td>Iris-virginica</td>\n",
       "    </tr>\n",
       "    <tr>\n",
       "      <th>147</th>\n",
       "      <td>6.5</td>\n",
       "      <td>3.0</td>\n",
       "      <td>5.2</td>\n",
       "      <td>2.0</td>\n",
       "      <td>Iris-virginica</td>\n",
       "    </tr>\n",
       "    <tr>\n",
       "      <th>148</th>\n",
       "      <td>6.2</td>\n",
       "      <td>3.4</td>\n",
       "      <td>5.4</td>\n",
       "      <td>2.3</td>\n",
       "      <td>Iris-virginica</td>\n",
       "    </tr>\n",
       "    <tr>\n",
       "      <th>149</th>\n",
       "      <td>5.9</td>\n",
       "      <td>3.0</td>\n",
       "      <td>5.1</td>\n",
       "      <td>1.8</td>\n",
       "      <td>Iris-virginica</td>\n",
       "    </tr>\n",
       "  </tbody>\n",
       "</table>\n",
       "<p>150 rows × 5 columns</p>\n",
       "</div>"
      ],
      "text/plain": [
       "     Sepal Length  Sepal Width  Petal Length  Petal Width         Species\n",
       "0             5.1          3.5           1.4          0.2     Iris-setosa\n",
       "1             4.9          3.0           1.4          0.2     Iris-setosa\n",
       "2             4.7          3.2           1.3          0.2     Iris-setosa\n",
       "3             4.6          3.1           1.5          0.2     Iris-setosa\n",
       "4             5.0          3.6           1.4          0.2     Iris-setosa\n",
       "..            ...          ...           ...          ...             ...\n",
       "145           6.7          3.0           5.2          2.3  Iris-virginica\n",
       "146           6.3          2.5           5.0          1.9  Iris-virginica\n",
       "147           6.5          3.0           5.2          2.0  Iris-virginica\n",
       "148           6.2          3.4           5.4          2.3  Iris-virginica\n",
       "149           5.9          3.0           5.1          1.8  Iris-virginica\n",
       "\n",
       "[150 rows x 5 columns]"
      ]
     },
     "execution_count": 13,
     "metadata": {},
     "output_type": "execute_result"
    }
   ],
   "source": [
    "# Leia o CSV e armazene-o em um DataFrame - use a função read_csv do pandas\n",
    "df_dados = pd.read_csv(\"iris.csv\")\n",
    "df_dados"
   ]
  },
  {
   "cell_type": "markdown",
   "metadata": {},
   "source": [
    "Agora, por meio das funções que você implementou, calcule o InfoGain de cada atributo. O DataFrame possui um atributo `columns` que pode ajudar. Armazene o resultado em um DataFrame de duas colunas - nome do atributo e valor de infogain - ordene essa tabela pelo InfoGain, [use o método sort_values do DataFrame](https://pandas.pydata.org/pandas-docs/version/0.19/generated/pandas.DataFrame.sort_values.html#pandas.DataFrame.sort_values). Para criação do novo DataFrame com o infogain, você pode criar uma matriz e depois adiciona-la em um DataFrame novo."
   ]
  },
  {
   "cell_type": "code",
   "execution_count": 14,
   "metadata": {
    "scrolled": true
   },
   "outputs": [
    {
     "data": {
      "text/html": [
       "<div>\n",
       "<style scoped>\n",
       "    .dataframe tbody tr th:only-of-type {\n",
       "        vertical-align: middle;\n",
       "    }\n",
       "\n",
       "    .dataframe tbody tr th {\n",
       "        vertical-align: top;\n",
       "    }\n",
       "\n",
       "    .dataframe thead th {\n",
       "        text-align: right;\n",
       "    }\n",
       "</style>\n",
       "<table border=\"1\" class=\"dataframe\">\n",
       "  <thead>\n",
       "    <tr style=\"text-align: right;\">\n",
       "      <th></th>\n",
       "      <th>Atributo</th>\n",
       "      <th>InfoGain</th>\n",
       "    </tr>\n",
       "  </thead>\n",
       "  <tbody>\n",
       "    <tr>\n",
       "      <th>1</th>\n",
       "      <td>Sepal Width</td>\n",
       "      <td>0.510870</td>\n",
       "    </tr>\n",
       "    <tr>\n",
       "      <th>0</th>\n",
       "      <td>Sepal Length</td>\n",
       "      <td>0.876938</td>\n",
       "    </tr>\n",
       "    <tr>\n",
       "      <th>3</th>\n",
       "      <td>Petal Width</td>\n",
       "      <td>1.435898</td>\n",
       "    </tr>\n",
       "    <tr>\n",
       "      <th>2</th>\n",
       "      <td>Petal Length</td>\n",
       "      <td>1.446317</td>\n",
       "    </tr>\n",
       "  </tbody>\n",
       "</table>\n",
       "</div>"
      ],
      "text/plain": [
       "       Atributo  InfoGain\n",
       "1   Sepal Width  0.510870\n",
       "0  Sepal Length  0.876938\n",
       "3   Petal Width  1.435898\n",
       "2  Petal Length  1.446317"
      ]
     },
     "execution_count": 14,
     "metadata": {},
     "output_type": "execute_result"
    }
   ],
   "source": [
    "## Seu código aqui\n",
    "result = {\"Atributo\" : [], \"InfoGain\": []}\n",
    "df_result = pd.DataFrame(result)\n",
    "for nom_atr in df_dados.columns:\n",
    "    if nom_atr != 'Species':\n",
    "        result_row = ({\"Atributo\":nom_atr, \"InfoGain\": ganho_informacao(df_dados,'Species',nom_atr)})\n",
    "        df_result = pd.concat([df_result, pd.DataFrame([result_row])], ignore_index=True)\n",
    "df_result.sort_values(\"InfoGain\")\n"
   ]
  },
  {
   "cell_type": "markdown",
   "metadata": {},
   "source": [
    "Gere um gráfico de dispersão (scatter plot) em que o eixo x e y são os dois atributos com InfoGain mais altos e com 3 grupos, cada grupo, uma espécie de flor diferente. [Veja o Jupyter do Pandas, se necessário](Básico%20-%20Pandas.ipynb). "
   ]
  },
  {
   "cell_type": "code",
   "execution_count": 15,
   "metadata": {},
   "outputs": [
    {
     "data": {
      "image/png": "[encoded data removed]",
      "text/plain": [
       "<Figure size 432x288 with 1 Axes>"
      ]
     },
     "metadata": {
      "needs_background": "light"
     },
     "output_type": "display_data"
    }
   ],
   "source": [
    "# Crie o gráfico solicitado\n",
    "\n",
    "## Seu código aqui\n",
    "\n",
    "from matplotlib import pyplot as plt\n",
    "\n",
    "fig, ax = plt.subplots()\n",
    "species = {\"Iris-setosa\": 'red', \"Iris-virginica\": 'blue', \"Iris-versicolor\": 'green'}\n",
    "for specie in species.keys():\n",
    "    ax.scatter(df_dados[df_dados[\"Species\"] == specie][\"Petal Length\"],df_dados[df_dados[\"Species\"] == specie][\"Petal Width\"], c = species[specie], label = specie)\n",
    "\n",
    "ax.set_xlabel('Petal Length')\n",
    "ax.set_ylabel('Petal Width')\n",
    "ax.legend()\n",
    "plt.show()"
   ]
  },
  {
   "cell_type": "markdown",
   "metadata": {},
   "source": [
    "## Opcional: discretização dos atributos numéricos\n",
    "\n",
    "Nesta versão de InfoGain, não discretizamos quando o valor é numérico. Porém, o correto seria discretizarmos cada atributo numérico. Para discretizar, mude o código implementado para usar a função [cut do Pandas](https://pandas.pydata.org/docs/reference/api/pandas.cut.html) quando necessário.\n",
    "\n",
    "\n",
    "Muitas vezes, depois da discritização o resultado de infogain pode mudar, nem sempre para um valor mais alto. Isso se deve a forma que ele é discretizado. Dependendo da forma, podemos perder informação. Fazer a discretização de uma forma que a divisão forneça o maior ganho de informação possível pode ser uma boa alternativa."
   ]
  },
  {
   "cell_type": "markdown",
   "metadata": {},
   "source": [
    "## Informações sobre da Base de Dados (retirada do [Weka](https://www.cs.waikato.ac.nz/ml/weka/))"
   ]
  },
  {
   "cell_type": "markdown",
   "metadata": {},
   "source": [
    "1. Title: Iris Plants Database\n",
    " \n",
    "2. Sources:\n",
    "      - (a) Creator: R.A. Fisher\n",
    "      - (b) Donor: Michael Marshall (MARSHALL%PLU@io.arc.nasa.gov)\n",
    "      - (c) Date: July, 1988\n",
    "\n",
    "3. Past Usage:\n",
    "    1. Fisher,R.A. \"The use of multiple measurements in taxonomic problems\"\n",
    "       Annual Eugenics, 7, Part II, 179-188 (1936); also in \"Contributions\n",
    "       to Mathematical Statistics\" (John Wiley, NY, 1950).\n",
    "    2. Duda,R.O., & Hart,P.E. (1973) Pattern Classification and Scene Analysis.\n",
    "       (Q327.D83) John Wiley & Sons.  ISBN 0-471-22361-1.  See page 218.\n",
    "    3. Dasarathy, B.V. (1980) \"Nosing Around the Neighborhood: A New System\n",
    "       Structure and Classification Rule for Recognition in Partially Exposed\n",
    "       Environments\".  IEEE Transactions on Pattern Analysis and Machine\n",
    "       Intelligence, Vol. PAMI-2, No. 1, 67-71.\n",
    "    4. Gates, G.W. (1972) \"The Reduced Nearest Neighbor Rule\".  IEEE \n",
    "       Transactions on Information Theory, May 1972, 431-433.\n",
    "    5. See also: 1988 MLC Proceedings, 54-64.  Cheeseman et al's AUTOCLASS II\n",
    "       conceptual clustering system finds 3 classes in the data.\n",
    " \n",
    "4. Relevant Information:\n",
    "        This is perhaps the best known database to be found in the pattern\n",
    "        recognition literature.  Fisher's paper is a classic in the field\n",
    "        and is referenced frequently to this day.  (See Duda & Hart, for\n",
    "        example.)  The data set contains 3 classes of 50 instances each,\n",
    "        where each class refers to a type of iris plant.  One class is\n",
    "        linearly separable from the other 2; the latter are NOT linearly\n",
    "        separable from each other."
   ]
  }
 ],
 "metadata": {
  "kernelspec": {
   "display_name": "Python 3 (ipykernel)",
   "language": "python",
   "name": "python3"
  },
  "language_info": {
   "codemirror_mode": {
    "name": "ipython",
    "version": 3
   },
   "file_extension": ".py",
   "mimetype": "text/x-python",
   "name": "python",
   "nbconvert_exporter": "python",
   "pygments_lexer": "ipython3",
   "version": "3.10.12"
  }
 },
 "nbformat": 4,
 "nbformat_minor": 2
}
